{
 "cells": [
  {
   "cell_type": "markdown",
   "metadata": {},
   "source": [
    "# Notebook that prepares the data for Andmetalgud"
   ]
  },
  {
   "cell_type": "code",
   "execution_count": 86,
   "metadata": {},
   "outputs": [],
   "source": [
    "# Import tools\n",
    "import os, sys\n",
    "import pandas as pd\n",
    "import numpy as np"
   ]
  },
  {
   "cell_type": "markdown",
   "metadata": {},
   "source": [
    "# Musealia"
   ]
  },
  {
   "cell_type": "code",
   "execution_count": 6,
   "metadata": {},
   "outputs": [],
   "source": [
    "# List files\n",
    "mus_dir = \"./raw_data/musealia\"\n",
    "mus_files = os.listdir(mus_dir)"
   ]
  },
  {
   "cell_type": "code",
   "execution_count": 27,
   "metadata": {},
   "outputs": [
    {
     "name": "stderr",
     "output_type": "stream",
     "text": [
      "/tmp/ipykernel_12259/3775957583.py:6: DtypeWarning: Columns (3,4,5,6,8,9,10) have mixed types. Specify dtype option on import or set low_memory=False.\n",
      "  df = pd.read_csv(filepath)\n",
      "/tmp/ipykernel_12259/3775957583.py:6: DtypeWarning: Columns (5) have mixed types. Specify dtype option on import or set low_memory=False.\n",
      "  df = pd.read_csv(filepath)\n"
     ]
    }
   ],
   "source": [
    "# Read all files\n",
    "file_frames = []\n",
    "existing_cols = []\n",
    "for i in range(len(mus_files)):\n",
    "    filepath = os.path.join(mus_dir, mus_files[i])\n",
    "    df = pd.read_csv(filepath)\n",
    "    df.set_index(\"MUSEAAL_ID\", inplace=True)\n",
    "\n",
    "    # Remove duplicated rows\n",
    "    df = df[~df.index.duplicated(keep='first')]\n",
    "\n",
    "    # Remove columns that already exist in other tables\n",
    "    colnames = df.columns\n",
    "    dup_cols = [col in existing_cols for col in colnames]\n",
    "    # Add the novel columns from this table to colnames\n",
    "    new_cols =  [col for col in colnames if col not in existing_cols]\n",
    "    [existing_cols.append(col) for col in new_cols]\n",
    "    df = df.loc[:,new_cols]\n",
    "    file_frames.append(df)"
   ]
  },
  {
   "cell_type": "code",
   "execution_count": 28,
   "metadata": {},
   "outputs": [],
   "source": [
    "# Merge all files into a single table\n",
    "musealia_df = pd.concat(file_frames, axis=1)"
   ]
  },
  {
   "cell_type": "markdown",
   "metadata": {},
   "source": [
    "## Check validity"
   ]
  },
  {
   "cell_type": "code",
   "execution_count": 38,
   "metadata": {},
   "outputs": [
    {
     "name": "stdout",
     "output_type": "stream",
     "text": [
      "Number of duplicates in data: 0\n",
      "Difference between the number of columns: 0\n"
     ]
    }
   ],
   "source": [
    "dup_museals = sum(musealia_df.index.duplicated())\n",
    "print(\"Number of duplicates in data:\", dup_museals)\n",
    "\n",
    "# Does the number of columns match\n",
    "col_diff = sum(df.shape[1] for df in file_frames) - musealia_df.shape[1]\n",
    "print(\"Difference between the number of columns:\", col_diff)"
   ]
  },
  {
   "cell_type": "code",
   "execution_count": 46,
   "metadata": {},
   "outputs": [
    {
     "data": {
      "text/plain": [
       "TAIS_NR            261583\n",
       "NIMETUS            261577\n",
       "KS                 275326\n",
       "MATERJAL           261577\n",
       "KOMMENTAAR         580444\n",
       "SYNDMUSE_LIIK      259356\n",
       "ASUKOHT            555086\n",
       "ALGUS              384529\n",
       "LOPP               548191\n",
       "ENNE_KR            402723\n",
       "RIIK_ADMIN_KOND    259356\n",
       "OSALEJA_ROLL       376469\n",
       "OSALEJA            376469\n",
       "KIHELKOND          597136\n",
       "TEKST              589552\n",
       "LIIK               589552\n",
       "TEHNIKA            392788\n",
       "PARAMEETER         341236\n",
       "YHIK               341236\n",
       "VAARTUS            341241\n",
       "ACR                  5350\n",
       "TRT                150409\n",
       "TRS                164300\n",
       "TRJ                455572\n",
       "TRL                578009\n",
       "KT                   5380\n",
       "KJ                 200301\n",
       "KL                 298037\n",
       "ELEMENTIDE_ARV       5256\n",
       "TULMELEGEND        440444\n",
       "ON_ORIGINAAL       105968\n",
       "ESMANE_YLDINFO     482448\n",
       "KAHJUSTUSED        549771\n",
       "SEISUND              5256\n",
       "OLEMUS             103723\n",
       "VARV               547155\n",
       "LISATEKST          458531\n",
       "dtype: int64"
      ]
     },
     "execution_count": 46,
     "metadata": {},
     "output_type": "execute_result"
    }
   ],
   "source": [
    "# Number of na's per columns\n",
    "musealia_df.isna().sum()"
   ]
  },
  {
   "cell_type": "markdown",
   "metadata": {},
   "source": [
    "## Select data for competition"
   ]
  },
  {
   "cell_type": "code",
   "execution_count": 96,
   "metadata": {},
   "outputs": [],
   "source": [
    "# Keep rows that have the OLEMUS existing\n",
    "selected_df = musealia_df[~musealia_df.OLEMUS.isna()]\n",
    "selected_df = selected_df.sample(10000)\n",
    "\n",
    "# Put OLEMUS as the last column of the df\n",
    "olemus = selected_df.pop('OLEMUS')\n",
    "selected_df['OLEMUS'] = olemus\n",
    "\n",
    "# Reindex for better saving\n",
    "selected_df.reset_index(inplace=True)"
   ]
  },
  {
   "cell_type": "markdown",
   "metadata": {},
   "source": [
    "## Train-test split"
   ]
  },
  {
   "cell_type": "code",
   "execution_count": 106,
   "metadata": {},
   "outputs": [],
   "source": [
    "# Select 70% of data for training\n",
    "train_df = selected_df.sample(n = int(selected_df.shape[0] * 0.7))\n",
    "\n",
    "# Test data & solution\n",
    "test_df = selected_df.loc[~selected_df.index.isin(train_df.index)]\n",
    "\n",
    "solution_df = test_df[['MUSEAAL_ID','OLEMUS']]\n",
    "test_df.pop('OLEMUS')\n",
    "\n",
    "# Sample submission\n",
    "result_vals = train_df.OLEMUS.unique()\n",
    "sample_submission_df = solution_df.copy(deep=True)\n",
    "sample_submission_df['OLEMUS'] = np.random.choice(result_vals, solution_df.shape[0])\n",
    "\n"
   ]
  },
  {
   "cell_type": "code",
   "execution_count": 110,
   "metadata": {},
   "outputs": [],
   "source": [
    "# https://www.kaggle.com/community-competitions-setup-guide \n",
    "# Write data\n",
    "result_path = \"./prepped_data/musealia\"\n",
    "\n",
    "train_df.to_csv(os.path.join(result_path, 'train.csv'), index=False)\n",
    "test_df.to_csv(os.path.join(result_path, 'test.csv'), index=False)\n",
    "solution_df.to_csv(os.path.join(result_path, 'solution.csv'), index=False)\n",
    "sample_submission_df.to_csv(os.path.join(result_path, 'sample_submission.csv'), index=False)"
   ]
  }
 ],
 "metadata": {
  "interpreter": {
   "hash": "4dfa32f644844a665250ac8905b686d85d252f04b7b77456db1fe91f4ee35308"
  },
  "kernelspec": {
   "display_name": "Python 3.9.11 ('venv': venv)",
   "language": "python",
   "name": "python3"
  },
  "language_info": {
   "codemirror_mode": {
    "name": "ipython",
    "version": 3
   },
   "file_extension": ".py",
   "mimetype": "text/x-python",
   "name": "python",
   "nbconvert_exporter": "python",
   "pygments_lexer": "ipython3",
   "version": "3.9.11"
  },
  "orig_nbformat": 4
 },
 "nbformat": 4,
 "nbformat_minor": 2
}
