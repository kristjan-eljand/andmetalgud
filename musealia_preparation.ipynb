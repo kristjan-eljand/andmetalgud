{
 "cells": [
  {
   "cell_type": "markdown",
   "metadata": {},
   "source": [
    "# Notebook that prepares the musealia data for Andmetalgud"
   ]
  },
  {
   "cell_type": "markdown",
   "metadata": {},
   "source": [
    "## Summary\n",
    "You have the data about the objects in Estonian museums (musealia). Each row in the dataset represents a single object that is uniquely identified by the 'id' (the first column). Each column represents one variable of the object (e.g. name, material, location). \n",
    "Most of the variables are categorical (e.g. material, color, damages.) but there are also textual variables (e.g. initial_info, additional_text, ...). In addition, there is one numerical variable (element_count) and one binary variable (is_original). All variables are in Estonian language.\n",
    "\n",
    "Currently, many museum objects have missing info about their \"type\" (whether the object is photo, document, book, letter, etc.). Your challenge is to predict the \"type\" of the object based on other variables. "
   ]
  },
  {
   "cell_type": "code",
   "execution_count": 24,
   "metadata": {},
   "outputs": [],
   "source": [
    "# Import tools\n",
    "import os, sys\n",
    "import pandas as pd\n",
    "import numpy as np"
   ]
  },
  {
   "cell_type": "markdown",
   "metadata": {},
   "source": [
    "# Musealia"
   ]
  },
  {
   "cell_type": "code",
   "execution_count": 25,
   "metadata": {},
   "outputs": [],
   "source": [
    "# List files\n",
    "mus_dir = \"./raw_data/musealia\"\n",
    "mus_files = os.listdir(mus_dir)"
   ]
  },
  {
   "cell_type": "code",
   "execution_count": 26,
   "metadata": {},
   "outputs": [
    {
     "name": "stderr",
     "output_type": "stream",
     "text": [
      "/tmp/ipykernel_438/3775957583.py:6: DtypeWarning: Columns (3,4,5,6,8,9,10) have mixed types. Specify dtype option on import or set low_memory=False.\n",
      "  df = pd.read_csv(filepath)\n",
      "/tmp/ipykernel_438/3775957583.py:6: DtypeWarning: Columns (5) have mixed types. Specify dtype option on import or set low_memory=False.\n",
      "  df = pd.read_csv(filepath)\n"
     ]
    }
   ],
   "source": [
    "# Read all files\n",
    "file_frames = []\n",
    "existing_cols = []\n",
    "for i in range(len(mus_files)):\n",
    "    filepath = os.path.join(mus_dir, mus_files[i])\n",
    "    df = pd.read_csv(filepath)\n",
    "    df.set_index(\"MUSEAAL_ID\", inplace=True)\n",
    "\n",
    "    # Remove duplicated rows\n",
    "    df = df[~df.index.duplicated(keep='first')]\n",
    "\n",
    "    # Remove columns that already exist in other tables\n",
    "    colnames = df.columns\n",
    "    dup_cols = [col in existing_cols for col in colnames]\n",
    "    # Add the novel columns from this table to colnames\n",
    "    new_cols =  [col for col in colnames if col not in existing_cols]\n",
    "    [existing_cols.append(col) for col in new_cols]\n",
    "    df = df.loc[:,new_cols]\n",
    "    file_frames.append(df)"
   ]
  },
  {
   "cell_type": "code",
   "execution_count": 27,
   "metadata": {},
   "outputs": [],
   "source": [
    "# Merge all files into a single table\n",
    "musealia_df = pd.concat(file_frames, axis=1)\n",
    "\n",
    "# Reindex for better saving\n",
    "musealia_df.reset_index(inplace=True)"
   ]
  },
  {
   "cell_type": "markdown",
   "metadata": {},
   "source": [
    "## Check validity"
   ]
  },
  {
   "cell_type": "code",
   "execution_count": 28,
   "metadata": {},
   "outputs": [
    {
     "name": "stdout",
     "output_type": "stream",
     "text": [
      "Number of duplicates in data: 0\n",
      "Difference between the number of columns: -1\n"
     ]
    }
   ],
   "source": [
    "dup_museals = sum(musealia_df.index.duplicated())\n",
    "print(\"Number of duplicates in data:\", dup_museals)\n",
    "\n",
    "# Does the number of columns match\n",
    "col_diff = sum(df.shape[1] for df in file_frames) - musealia_df.shape[1]\n",
    "print(\"Difference between the number of columns:\", col_diff)"
   ]
  },
  {
   "cell_type": "code",
   "execution_count": 29,
   "metadata": {},
   "outputs": [
    {
     "data": {
      "text/plain": [
       "MUSEAAL_ID              0\n",
       "TAIS_NR            261583\n",
       "NIMETUS            261577\n",
       "KS                 275326\n",
       "MATERJAL           261577\n",
       "KOMMENTAAR         580444\n",
       "SYNDMUSE_LIIK      259356\n",
       "ASUKOHT            555086\n",
       "ALGUS              384529\n",
       "LOPP               548191\n",
       "ENNE_KR            402723\n",
       "RIIK_ADMIN_KOND    259356\n",
       "OSALEJA_ROLL       376469\n",
       "OSALEJA            376469\n",
       "KIHELKOND          597136\n",
       "TEKST              589552\n",
       "LIIK               589552\n",
       "TEHNIKA            392788\n",
       "PARAMEETER         341236\n",
       "YHIK               341236\n",
       "VAARTUS            341241\n",
       "ACR                  5350\n",
       "TRT                150409\n",
       "TRS                164300\n",
       "TRJ                455572\n",
       "TRL                578009\n",
       "KT                   5380\n",
       "KJ                 200301\n",
       "KL                 298037\n",
       "ELEMENTIDE_ARV       5256\n",
       "TULMELEGEND        440444\n",
       "ON_ORIGINAAL       105968\n",
       "ESMANE_YLDINFO     482448\n",
       "KAHJUSTUSED        549771\n",
       "SEISUND              5256\n",
       "OLEMUS             103723\n",
       "VARV               547155\n",
       "LISATEKST          458531\n",
       "dtype: int64"
      ]
     },
     "execution_count": 29,
     "metadata": {},
     "output_type": "execute_result"
    }
   ],
   "source": [
    "# Number of na's per columns\n",
    "musealia_df.isna().sum()"
   ]
  },
  {
   "cell_type": "markdown",
   "metadata": {},
   "source": [
    "### Rename columns"
   ]
  },
  {
   "cell_type": "code",
   "execution_count": 30,
   "metadata": {},
   "outputs": [
    {
     "data": {
      "text/plain": [
       "Index(['id', 'full_nr', 'name', 'ks', 'material', 'commentary', 'event_type',\n",
       "       'location', 'start', 'end', 'before_Christ', 'country_and_unit',\n",
       "       'participants_role', 'participant', 'parish', 'text', 'class',\n",
       "       'technique', 'parameter', 'unit', 'value', 'acr', 'trt', 'trs', 'trj',\n",
       "       'trl', 'kt', 'kj', 'kl', 'element_count', 'legend', 'is_original',\n",
       "       'initial_info', 'damages', 'state', 'type', 'color', 'additional_text'],\n",
       "      dtype='object')"
      ]
     },
     "execution_count": 30,
     "metadata": {},
     "output_type": "execute_result"
    }
   ],
   "source": [
    "col_map = {\n",
    "    'MUSEAAL_ID': 'id',\n",
    "    'TAIS_NR': 'full_nr', \n",
    "    'NIMETUS': 'name', \n",
    "    'KS': 'ks', \n",
    "    'MATERJAL': 'material', \n",
    "    'KOMMENTAAR': 'commentary', \n",
    "    'SYNDMUSE_LIIK': 'event_type',\n",
    "    'ASUKOHT': 'location', \n",
    "    'ALGUS': 'start', \n",
    "    'LOPP': 'end', \n",
    "    'ENNE_KR': 'before_Christ', \n",
    "    'RIIK_ADMIN_KOND': 'country_and_unit',\n",
    "    'OSALEJA_ROLL': 'participants_role', \n",
    "    'OSALEJA': 'participant', \n",
    "    'KIHELKOND': 'parish', \n",
    "    'TEKST': 'text', \n",
    "    'LIIK': 'class', \n",
    "    'TEHNIKA': 'technique',\n",
    "    'PARAMEETER': 'parameter', \n",
    "    'YHIK': 'unit', \n",
    "    'VAARTUS': 'value', \n",
    "    'ACR': 'acr', \n",
    "    'TRT': 'trt', \n",
    "    'TRS': 'trs', \n",
    "    'TRJ': 'trj', \n",
    "    'TRL': 'trl',\n",
    "    'KT': 'kt', \n",
    "    'KJ': 'kj', \n",
    "    'KL': 'kl', \n",
    "    'ELEMENTIDE_ARV': 'element_count', \n",
    "    'TULMELEGEND': 'legend', \n",
    "    'ON_ORIGINAAL': 'is_original',\n",
    "    'ESMANE_YLDINFO': 'initial_info', \n",
    "    'KAHJUSTUSED': 'damages', \n",
    "    'SEISUND': 'state', \n",
    "    'OLEMUS': 'type', \n",
    "    'VARV': 'color',\n",
    "    'LISATEKST': 'additional_text'\n",
    "}\n",
    "\n",
    "musealia_df.rename(columns=col_map, inplace=True)\n",
    "musealia_df.columns"
   ]
  },
  {
   "cell_type": "markdown",
   "metadata": {},
   "source": [
    "## Reduce the number of types\n",
    "Top 60 types are selected and some near-duplications are removed manually."
   ]
  },
  {
   "cell_type": "code",
   "execution_count": 31,
   "metadata": {},
   "outputs": [],
   "source": [
    "all_types_ordered = musealia_df.groupby(by='type').size().sort_values(ascending=False)\n",
    "top_types = all_types_ordered[:60]\n",
    "\n",
    "selected_types = ['foto', 'fotonegatiiv', 'kavand/joonis/eskiis', 'plakat', 'kava',\n",
    "       'arheoloogiline leid', 'kiri', 'raamat', 'käsikiri', 'dokument',\n",
    "       'noodid', 'graafika', 'pitser/templijäljend', 'münt',\n",
    "       'käsikiri, laul/ vokaalmuusika', 'digitaalne kujutis', 'postkaart',\n",
    "       'väiketrükis', 'ajakiri', 'ajaleht', 'medal', 'kutse', 'telegramm',\n",
    "       'helisalvestis', 'käsikiri, muusikateos', 'diapositiiv', 'silt/märk', 'joonistus',\n",
    "       'foto, postkaart', 'kalender', 'karikatuur',\n",
    "       'fotomaterjal', 'aukiri/auaadress', 'nõu/anum', 'pitsat', 'trükinoot',\n",
    "       'muusikainstrument', 'album', 'paber', 'maal',\n",
    "       'fotonegatiiv, fotonegatiiv', 'kleit', 'skulptuur', 'kott',\n",
    "       'kaustik/vihik', 'lint/pael', 'märkmed', 'nukk',\n",
    "       'kiri, postkaart', 'lina/linik', 'ehe', 'laegas/karp',\n",
    "       'käsikiri, noodid', 'pakend', 'tunnistus']\n",
    "\n",
    "#top_types.keys()\n",
    "\n",
    "selected_types_df = musealia_df.loc[[t in selected_types for t in musealia_df.type]]"
   ]
  },
  {
   "cell_type": "markdown",
   "metadata": {},
   "source": [
    "## Select data for competition"
   ]
  },
  {
   "cell_type": "code",
   "execution_count": 21,
   "metadata": {},
   "outputs": [],
   "source": [
    "# Keep rows that have the type existing\n",
    "selected_df = selected_types_df[~selected_types_df.type.isna()]\n",
    "selected_df = selected_df.sample(20000)\n",
    "\n",
    "# Put type as the last column of the df\n",
    "type = selected_df.pop('type')\n",
    "selected_df['type'] = type"
   ]
  },
  {
   "cell_type": "code",
   "execution_count": 22,
   "metadata": {},
   "outputs": [
    {
     "data": {
      "text/plain": [
       "type\n",
       "foto                             5300\n",
       "fotonegatiiv                     3176\n",
       "kavand/joonis/eskiis             1307\n",
       "plakat                           1111\n",
       "arheoloogiline leid              1104\n",
       "kava                             1094\n",
       "kiri                              887\n",
       "raamat                            740\n",
       "käsikiri                          615\n",
       "dokument                          573\n",
       "noodid                            324\n",
       "graafika                          313\n",
       "pitser/templijäljend              279\n",
       "münt                              273\n",
       "digitaalne kujutis                259\n",
       "käsikiri, laul/ vokaalmuusika     254\n",
       "postkaart                         218\n",
       "väiketrükis                       168\n",
       "kutse                             163\n",
       "ajaleht                           163\n",
       "medal                             131\n",
       "ajakiri                           130\n",
       "helisalvestis                     110\n",
       "telegramm                          96\n",
       "silt/märk                          82\n",
       "foto, postkaart                    81\n",
       "käsikiri, muusikateos              79\n",
       "diapositiiv                        76\n",
       "kalender                           75\n",
       "joonistus                          69\n",
       "karikatuur                         56\n",
       "aukiri/auaadress                   52\n",
       "fotomaterjal                       52\n",
       "fotonegatiiv, fotonegatiiv         44\n",
       "kleit                              39\n",
       "pitsat                             39\n",
       "trükinoot                          36\n",
       "kott                               33\n",
       "paber                              32\n",
       "album                              31\n",
       "ehe                                31\n",
       "nõu/anum                           31\n",
       "skulptuur                          30\n",
       "muusikainstrument                  28\n",
       "maal                               27\n",
       "kaustik/vihik                      24\n",
       "nukk                               24\n",
       "lina/linik                         22\n",
       "märkmed                            20\n",
       "käsikiri, noodid                   20\n",
       "laegas/karp                        19\n",
       "kiri, postkaart                    16\n",
       "tunnistus                          16\n",
       "pakend                             15\n",
       "lint/pael                          13\n",
       "dtype: int64"
      ]
     },
     "execution_count": 22,
     "metadata": {},
     "output_type": "execute_result"
    }
   ],
   "source": [
    "selected_df.groupby(by='type').size().sort_values(ascending=False)"
   ]
  },
  {
   "cell_type": "markdown",
   "metadata": {},
   "source": [
    "## Train-test split"
   ]
  },
  {
   "cell_type": "code",
   "execution_count": 35,
   "metadata": {},
   "outputs": [],
   "source": [
    "# Select 70% of data for training\n",
    "train_df = selected_df.sample(n = int(selected_df.shape[0] * 0.7))\n",
    "\n",
    "# Test data & solution\n",
    "test_df = selected_df.loc[~selected_df.index.isin(train_df.index)]\n",
    "\n",
    "solution_df = test_df[['id','type']]\n",
    "test_df.pop('type')\n",
    "\n",
    "# Sample submission\n",
    "result_vals = train_df.type.unique()\n",
    "sample_submission_df = solution_df.copy(deep=True)\n",
    "sample_submission_df['type'] = np.random.choice(result_vals, solution_df.shape[0])\n",
    "\n"
   ]
  },
  {
   "cell_type": "code",
   "execution_count": 36,
   "metadata": {},
   "outputs": [],
   "source": [
    "# https://www.kaggle.com/community-competitions-setup-guide \n",
    "# Write data\n",
    "result_path = \"./prepped_data/musealia\"\n",
    "\n",
    "train_df.to_csv(os.path.join(result_path, 'train.csv'), index=False)\n",
    "test_df.to_csv(os.path.join(result_path, 'test.csv'), index=False)\n",
    "solution_df.to_csv(os.path.join(result_path, 'solution.csv'), index=False)\n",
    "sample_submission_df.to_csv(os.path.join(result_path, 'sample_submission.csv'), index=False)"
   ]
  }
 ],
 "metadata": {
  "interpreter": {
   "hash": "4dfa32f644844a665250ac8905b686d85d252f04b7b77456db1fe91f4ee35308"
  },
  "kernelspec": {
   "display_name": "Python 3.9.11 ('venv': venv)",
   "language": "python",
   "name": "python3"
  },
  "language_info": {
   "codemirror_mode": {
    "name": "ipython",
    "version": 3
   },
   "file_extension": ".py",
   "mimetype": "text/x-python",
   "name": "python",
   "nbconvert_exporter": "python",
   "pygments_lexer": "ipython3",
   "version": "3.9.11"
  },
  "orig_nbformat": 4
 },
 "nbformat": 4,
 "nbformat_minor": 2
}
